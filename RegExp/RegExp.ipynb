{
 "cells": [
  {
   "cell_type": "markdown",
   "metadata": {},
   "source": [
    "# Задание 2"
   ]
  },
  {
   "cell_type": "markdown",
   "metadata": {},
   "source": [
    "## Часть 1."
   ]
  },
  {
   "cell_type": "code",
   "execution_count": 2,
   "metadata": {
    "dotnet_interactive": {
     "language": "csharp"
    },
    "polyglot_notebook": {
     "kernelName": "csharp"
    }
   },
   "outputs": [
    {
     "name": "stdout",
     "output_type": "stream",
     "text": [
      "Arithmetic: 10 letters.\n",
      "\n",
      "Elapsed time: 166.3794 ms\n",
      "Arithmetic: 10 letters.\n"
     ]
    }
   ],
   "source": [
    "using System.Diagnostics;\n",
    "\n",
    "public static char GenerateRandomLetter(Random rand)\n",
    "{\n",
    "    string letters = \"abcdefghijklmnopqrstuvwxyzABCDEFGHIJKLMNOPQRSTUVWXYZ\";\n",
    "    int index = rand.Next(letters.Length);\n",
    "    return letters[index];\n",
    "}\n",
    "\n",
    "//StringBuilder tenChars = new StringBuilder(\"Arithmetic\");\n",
    "string tenChars = \"Arithmetic\";\n",
    "\n",
    "Console.WriteLine($\"{tenChars}: {tenChars.Length} letters.\");\n",
    "\n",
    "Random rand = new Random();\n",
    "\n",
    "Stopwatch stopwatch = new Stopwatch();\n",
    "\n",
    "stopwatch.Start();\n",
    "for (int i = 0; i < 1000000; i += 1) {\n",
    "    //tenChars[i % 10] = GenerateRandomLetter(rand);\n",
    "    tenChars.Remove(i % 10);\n",
    "    tenChars.Insert(i % 10, Convert.ToString(GenerateRandomLetter(rand)));\n",
    "\n",
    "\n",
    "}\n",
    "stopwatch.Stop();\n",
    "\n",
    "TimeSpan elapsed = stopwatch.Elapsed;\n",
    "Console.WriteLine();\n",
    "Console.WriteLine($\"Elapsed time: {elapsed.TotalMilliseconds} ms\");\n",
    "Console.WriteLine($\"{tenChars}: {tenChars.Length} letters.\");"
   ]
  },
  {
   "cell_type": "markdown",
   "metadata": {},
   "source": [
    "## Часть 2"
   ]
  },
  {
   "cell_type": "code",
   "execution_count": 2,
   "metadata": {
    "dotnet_interactive": {
     "language": "csharp"
    },
    "polyglot_notebook": {
     "kernelName": "csharp"
    }
   },
   "outputs": [
    {
     "name": "stdout",
     "output_type": "stream",
     "text": [
      "True\n",
      "False\n"
     ]
    }
   ],
   "source": [
    "using System.Text.RegularExpressions;\n",
    "\n",
    "string correctDateFormat = \"23:01\";\n",
    "string incorrectDateFormat = \"25:74\";\n",
    "\n",
    "string pattern = @\"([0-1][0-9]|2[0-4]):[0-5][0-9]\";\n",
    "\n",
    "Console.WriteLine($\"{Regex.IsMatch(correctDateFormat, pattern)}\");\n",
    "Console.WriteLine($\"{Regex.IsMatch(incorrectDateFormat, pattern)}\");"
   ]
  },
  {
   "cell_type": "markdown",
   "metadata": {},
   "source": [
    "## Часть 3"
   ]
  },
  {
   "cell_type": "code",
   "execution_count": 40,
   "metadata": {
    "dotnet_interactive": {
     "language": "csharp"
    },
    "polyglot_notebook": {
     "kernelName": "csharp"
    }
   },
   "outputs": [
    {
     "name": "stdout",
     "output_type": "stream",
     "text": [
      "False\n",
      "False\n"
     ]
    }
   ],
   "source": [
    "using System.Text.RegularExpressions;\n",
    "\n",
    "string pattern = @\"([a-zA-Z0-9_]+)([a-zA-Z0-9_-]*)\\@([a-z]+\\.)+[a-z]+$\";\n",
    "\n",
    "string correctEmailFormat = \"-Omgtu_1-best@uni.domen.ru\";\n",
    "string incorrectEmailFormat = \"3.@d\";\n",
    "\n",
    "Console.WriteLine($\"{Regex.IsMatch(correctEmailFormat, pattern)}\");\n",
    "Console.WriteLine($\"{Regex.IsMatch(incorrectEmailFormat, pattern)}\");"
   ]
  }
 ],
 "metadata": {
  "kernelspec": {
   "display_name": ".NET (C#)",
   "language": "C#",
   "name": ".net-csharp"
  },
  "language_info": {
   "name": "polyglot-notebook"
  },
  "polyglot_notebook": {
   "kernelInfo": {
    "defaultKernelName": "csharp",
    "items": [
     {
      "aliases": [],
      "languageName": "csharp",
      "name": "csharp"
     }
    ]
   }
  }
 },
 "nbformat": 4,
 "nbformat_minor": 2
}
