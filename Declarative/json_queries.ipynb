{
 "cells": [
  {
   "cell_type": "code",
   "execution_count": 1,
   "metadata": {
    "dotnet_interactive": {
     "language": "csharp"
    },
    "polyglot_notebook": {
     "kernelName": "csharp"
    }
   },
   "outputs": [],
   "source": [
    "using System;\n",
    "using System.Collections.Generic;\n",
    "using System.IO;\n",
    "using System.Linq;\n",
    "using Newtonsoft.Json;\n",
    "using Newtonsoft.Json.Linq;\n",
    "\n",
    "public class Cadet {\n",
    "    public string Name { get; set; }\n",
    "    public string Group { get; set; }\n",
    "    public string Discipline { get; set; }\n",
    "    public int Mark { get; set; }\n",
    "}\n",
    "\n",
    "public class CadetGPA {\n",
    "    public string Cadet { get; set; }\n",
    "    public double GPA { get; set; }\n",
    "}"
   ]
  },
  {
   "cell_type": "code",
   "execution_count": 2,
   "metadata": {
    "dotnet_interactive": {
     "language": "csharp"
    },
    "polyglot_notebook": {
     "kernelName": "csharp"
    }
   },
   "outputs": [],
   "source": [
    "public void GetStudentsWithHighestGPA(string inputPath, string outputPath) {\n",
    "    // Read input file\n",
    "    string inputJson = File.ReadAllText(inputPath);\n",
    "\n",
    "    // Parse input JSON\n",
    "    dynamic inputData = JsonConvert.DeserializeObject(inputJson);\n",
    "    List<Cadet> cadets = JsonConvert.DeserializeObject<List<Cadet>>(inputData.data.ToString());\n",
    "\n",
    "    // Calculate GPA for each cadet\n",
    "    var cadetGpas = cadets.GroupBy(c => c.Name)\n",
    "        .Select(g => new CadetGPA\n",
    "        {\n",
    "            Cadet = g.Key,\n",
    "            GPA = g.Average(c => c.Mark)\n",
    "        })\n",
    "        .ToList();\n",
    "\n",
    "    // Find cadets with the highest GPA\n",
    "    double maxGpa = cadetGpas.Max(c => c.GPA);\n",
    "    List<CadetGPA> highestGpaCadets = cadetGpas.Where(c => c.GPA == maxGpa).ToList();\n",
    "\n",
    "    // Create output data\n",
    "    var outputData = new\n",
    "    {\n",
    "        Response = highestGpaCadets\n",
    "    };\n",
    "\n",
    "    // Write output file\n",
    "    string outputJson = JsonConvert.SerializeObject(outputData, Formatting.Indented);\n",
    "    File.WriteAllText(outputPath, outputJson);\n",
    "}"
   ]
  },
  {
   "cell_type": "code",
   "execution_count": 3,
   "metadata": {
    "dotnet_interactive": {
     "language": "csharp"
    },
    "polyglot_notebook": {
     "kernelName": "csharp"
    }
   },
   "outputs": [],
   "source": [
    "public void CalculateGPAByDiscipline(string inputPath, string outputPath) {\n",
    "    // Read input file\n",
    "    string inputJson = File.ReadAllText(inputPath);\n",
    "\n",
    "    // Parse input JSON\n",
    "    dynamic inputData = JsonConvert.DeserializeObject(inputJson);\n",
    "    List<Cadet> cadets = JsonConvert.DeserializeObject<List<Cadet>>(inputData.data.ToString());\n",
    "\n",
    "    // Calculate GPA for each discipline\n",
    "    var disciplineGpas = cadets.GroupBy(c => c.Discipline)\n",
    "        .Select(g =>\n",
    "            new JObject(\n",
    "                new JProperty(g.Key, g.Average(c => c.Mark))\n",
    "            )\n",
    "        ).ToList();\n",
    "\n",
    "    // Create output data\n",
    "    var outputData = new\n",
    "    {\n",
    "        Response = disciplineGpas\n",
    "    };\n",
    "\n",
    "    // Write output file\n",
    "    string outputJson = JsonConvert.SerializeObject(outputData, Formatting.Indented);\n",
    "    File.WriteAllText(outputPath, outputJson);\n",
    "}"
   ]
  },
  {
   "cell_type": "code",
   "execution_count": 4,
   "metadata": {
    "dotnet_interactive": {
     "language": "csharp"
    },
    "polyglot_notebook": {
     "kernelName": "csharp"
    }
   },
   "outputs": [],
   "source": [
    "public void GetBestGroupsByDiscipline(string inputPath, string outputPath) {\n",
    "    // Read input file\n",
    "    string inputJson = File.ReadAllText(inputPath);\n",
    "\n",
    "    // Parse input JSON\n",
    "    dynamic inputData = JsonConvert.DeserializeObject(inputJson);\n",
    "    List<Cadet> cadets = JsonConvert.DeserializeObject<List<Cadet>>(inputData.data.ToString());\n",
    "\n",
    "    // Calculate GPA for each group in each discipline\n",
    "    var groupGpas = cadets.GroupBy(c => new { c.Discipline, c.Group })\n",
    "        .Select(g => new\n",
    "        {\n",
    "            Discipline = g.Key.Discipline,\n",
    "            Group = g.Key.Group,\n",
    "            GPA = g.Average(c => c.Mark)\n",
    "        })\n",
    "        .ToList();\n",
    "\n",
    "    // Find the best group for each discipline\n",
    "    var bestGroups = groupGpas.GroupBy(g => g.Discipline)\n",
    "        .Select(d => d.OrderByDescending(g => g.GPA).First())\n",
    "        .ToList();\n",
    "\n",
    "    // Create output data\n",
    "    var outputData = new\n",
    "    {\n",
    "        Response = bestGroups\n",
    "    };\n",
    "\n",
    "    // Write output file\n",
    "    string outputJson = JsonConvert.SerializeObject(outputData, Formatting.Indented);\n",
    "    File.WriteAllText(outputPath, outputJson);\n",
    "}"
   ]
  },
  {
   "cell_type": "code",
   "execution_count": 5,
   "metadata": {
    "dotnet_interactive": {
     "language": "csharp"
    },
    "polyglot_notebook": {
     "kernelName": "csharp"
    }
   },
   "outputs": [],
   "source": [
    "public void ProcessFile(string filename_in, string filename_out) {\n",
    "    JObject json = JObject.Parse(File.ReadAllText($@\"./files/{filename_in}\"));\n",
    "\n",
    "    string taskName = (string)json[\"taskName\"];\n",
    "\n",
    "    if (taskName == \"GetStudentsWithHighestGPA\") {\n",
    "        GetStudentsWithHighestGPA($\"./files/{filename_in}\", $\"./files/{filename_out}\");\n",
    "    } else if (taskName == \"CalculateGPAByDiscipline\") {\n",
    "        CalculateGPAByDiscipline($\"./files/{filename_in}\", $\"./files/{filename_out}\");\n",
    "    } else if (taskName == \"GetBestGroupsByDiscipline\") {\n",
    "        GetBestGroupsByDiscipline($\"./files/{filename_in}\", $\"./files/{filename_out}\");\n",
    "    }\n",
    "}\n",
    "\n",
    "ProcessFile(\"GetStudentsWithHighestGPA.json\", \"GetStudentsWithHighestGPA_out.json\");\n",
    "ProcessFile(\"GetBestGroupsByDiscipline.json\", \"GetBestGroupsByDiscipline_out.json\");\n",
    "ProcessFile(\"CalculateGPAByDiscipline.json\", \"CalculateGPAByDiscipline_out.json\");"
   ]
  }
 ],
 "metadata": {
  "kernelspec": {
   "display_name": ".NET (C#)",
   "language": "C#",
   "name": ".net-csharp"
  },
  "language_info": {
   "name": "polyglot-notebook"
  },
  "polyglot_notebook": {
   "kernelInfo": {
    "defaultKernelName": "csharp",
    "items": [
     {
      "aliases": [],
      "languageName": "csharp",
      "name": "csharp"
     }
    ]
   }
  }
 },
 "nbformat": 4,
 "nbformat_minor": 2
}
