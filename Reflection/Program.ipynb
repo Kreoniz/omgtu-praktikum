{
 "cells": [
  {
   "cell_type": "code",
   "execution_count": 1,
   "metadata": {
    "dotnet_interactive": {
     "language": "csharp"
    },
    "polyglot_notebook": {
     "kernelName": "csharp"
    }
   },
   "outputs": [
    {
     "name": "stdout",
     "output_type": "stream",
     "text": [
      "Class: EmbeddedAttribute\n",
      "\tMethod: Equals\n",
      "\t\tReturn type: Boolean\n",
      "\t\t\tParameter: obj (Object)\n",
      "\tMethod: GetHashCode\n",
      "\t\tReturn type: Int32\n",
      "\tMethod: get_TypeId\n",
      "\t\tReturn type: Object\n",
      "\tMethod: Match\n",
      "\t\tReturn type: Boolean\n",
      "\t\t\tParameter: obj (Object)\n",
      "\tMethod: IsDefaultAttribute\n",
      "\t\tReturn type: Boolean\n",
      "\tMethod: GetType\n",
      "\t\tReturn type: Type\n",
      "\tMethod: ToString\n",
      "\t\tReturn type: String\n",
      "Class: NullableAttribute\n",
      "\tMethod: Equals\n",
      "\t\tReturn type: Boolean\n",
      "\t\t\tParameter: obj (Object)\n",
      "\tMethod: GetHashCode\n",
      "\t\tReturn type: Int32\n",
      "\tMethod: get_TypeId\n",
      "\t\tReturn type: Object\n",
      "\tMethod: Match\n",
      "\t\tReturn type: Boolean\n",
      "\t\t\tParameter: obj (Object)\n",
      "\tMethod: IsDefaultAttribute\n",
      "\t\tReturn type: Boolean\n",
      "\tMethod: GetType\n",
      "\t\tReturn type: Type\n",
      "\tMethod: ToString\n",
      "\t\tReturn type: String\n",
      "Class: NullableContextAttribute\n",
      "\tMethod: Equals\n",
      "\t\tReturn type: Boolean\n",
      "\t\t\tParameter: obj (Object)\n",
      "\tMethod: GetHashCode\n",
      "\t\tReturn type: Int32\n",
      "\tMethod: get_TypeId\n",
      "\t\tReturn type: Object\n",
      "\tMethod: Match\n",
      "\t\tReturn type: Boolean\n",
      "\t\t\tParameter: obj (Object)\n",
      "\tMethod: IsDefaultAttribute\n",
      "\t\tReturn type: Boolean\n",
      "\tMethod: GetType\n",
      "\t\tReturn type: Type\n",
      "\tMethod: ToString\n",
      "\t\tReturn type: String\n",
      "Class: ICommand\n",
      "\tMethod: Execute\n",
      "\t\tReturn type: Void\n",
      "Class: IoC\n",
      "\tMethod: Resolve\n",
      "\t\tReturn type: T\n",
      "\t\t\tParameter: dependency (String)\n",
      "\t\t\tParameter: args (Object[])\n",
      "\tMethod: GetType\n",
      "\t\tReturn type: Type\n",
      "\tMethod: ToString\n",
      "\t\tReturn type: String\n",
      "\tMethod: Equals\n",
      "\t\tReturn type: Boolean\n",
      "\t\t\tParameter: obj (Object)\n",
      "\tMethod: GetHashCode\n",
      "\t\tReturn type: Int32\n",
      "Class: SetupCommand\n",
      "\tMethod: Execute\n",
      "\t\tReturn type: Void\n",
      "\tMethod: GetType\n",
      "\t\tReturn type: Type\n",
      "\tMethod: ToString\n",
      "\t\tReturn type: String\n",
      "\tMethod: Equals\n",
      "\t\tReturn type: Boolean\n",
      "\t\t\tParameter: obj (Object)\n",
      "\tMethod: GetHashCode\n",
      "\t\tReturn type: Int32\n",
      "Class: <>c\n",
      "\tMethod: GetType\n",
      "\t\tReturn type: Type\n",
      "\tMethod: ToString\n",
      "\t\tReturn type: String\n",
      "\tMethod: Equals\n",
      "\t\tReturn type: Boolean\n",
      "\t\t\tParameter: obj (Object)\n",
      "\tMethod: GetHashCode\n",
      "\t\tReturn type: Int32\n"
     ]
    }
   ],
   "source": [
    "using System;\n",
    "using System.Linq;\n",
    "using System.Reflection;\n",
    "\n",
    "Assembly assembly = Assembly.LoadFrom(\"core.dll\");\n",
    "Type[] types = assembly.GetTypes();\n",
    "\n",
    "types.ToList().ForEach(type =>\n",
    "{\n",
    "    Console.WriteLine($\"Class: {type.Name}\");\n",
    "    type.GetMethods().ToList().ForEach(method =>\n",
    "    {\n",
    "        Console.WriteLine($\"\\tMethod: {method.Name}\");\n",
    "        Console.WriteLine($\"\\t\\tReturn type: {method.ReturnType.Name}\");\n",
    "        method.GetParameters().ToList().ForEach(parameter =>\n",
    "        {\n",
    "            Console.WriteLine($\"\\t\\t\\tParameter: {parameter.Name} ({parameter.ParameterType.Name})\");\n",
    "        });\n",
    "    });\n",
    "});\n"
   ]
  }
 ],
 "metadata": {
  "kernelspec": {
   "display_name": ".NET (C#)",
   "language": "C#",
   "name": ".net-csharp"
  },
  "polyglot_notebook": {
   "kernelInfo": {
    "defaultKernelName": "csharp",
    "items": [
     {
      "aliases": [],
      "languageName": "csharp",
      "name": "csharp"
     }
    ]
   }
  }
 },
 "nbformat": 4,
 "nbformat_minor": 2
}
